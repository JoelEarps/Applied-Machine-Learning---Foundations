{
 "cells": [
  {
   "cell_type": "markdown",
   "metadata": {},
   "source": [
    "## What is ML?"
   ]
  },
  {
   "cell_type": "markdown",
   "metadata": {},
   "source": [
    "Field of study that gives computers ability to learn without being explicity programmed - arthur samuel 1959\n",
    "    ML algorithm can figure out how to perform important tasks by generlising from examples - Peter Domingos\n",
    "    ML is fitting a function to examples and using to generalise and make predictions about new examples\n",
    "    Just like the human brain - learn from past experiences\n",
    "    Even simpler - pattern matching\n",
    "    \n",
    "Example - linearf regression - model predicts number based on previous data\n",
    "equation for a line is y = mx + c\n",
    "\n",
    "\n",
    "    "
   ]
  },
  {
   "cell_type": "markdown",
   "metadata": {},
   "source": [
    "## What kind of problems can it help you solve?"
   ]
  },
  {
   "cell_type": "markdown",
   "metadata": {},
   "source": [
    "Walk through these questions if you should use ML learning\n",
    "Is this a type of problem that can be solved with machine learning?\n",
    "Does it require prediction of bucketing into categories - if not prediction or segmentation to be made then you shouldnt use ML\n",
    "Is the problem self conatined - if too many or outside factors there might be too much noise for a prediction\n",
    "Fraudulent transaction - look at current and past transactions\n",
    "Looking at whether a credit card company is going to succeed or fail - too many influencing and external factors\n",
    "Is my particular problem one that can be solved with machien learning?\n",
    "Do you have all the components needed to build a model - data with labels - how are you going to teach a model data with no labels\n",
    "Do you have the ability to asses the quality of the model\n",
    "Can you determine an accetable accuracy threshold - models performance to cost of the model - business impact\n",
    "\n",
    "Step by step questions, starting with a project proposal:\n",
    "1. Does it require bucketing or prediction? No - other solutions\n",
    "2. Is problem self contained - no look elsewhere \n",
    "3. Data with labels - if not get labels \n",
    "4. Do you have the ability to asses the model - whats the performance metric trying to be reached\n",
    "5. Whats the threshold - tie it to the business\n",
    "\n",
    "If yes to everyone question you can use machine learning\n",
    "\n",
    "Examples - span recognition, speech recognition"
   ]
  },
  {
   "cell_type": "markdown",
   "metadata": {},
   "source": [
    "## Why Python?"
   ]
  },
  {
   "cell_type": "markdown",
   "metadata": {},
   "source": [
    "Very popular and has a large user base - tutorials, documentation and community\n",
    "Lots of ML packages and its easy to learn\n",
    "Python is like a swiss army knife - very easy to use packages - natural ML, deep learning, visualisation"
   ]
  },
  {
   "cell_type": "code",
   "execution_count": 4,
   "metadata": {},
   "outputs": [],
   "source": [
    "#scikitlearn is great but will tell you about updates and present them as warnings called future warnings so here they are filtered out\n",
    "\n",
    "import warnings\n",
    "warnings.filterwarnings(\"ignore\", category=FutureWarning)\n",
    "from sklearn.datasets import load_iris\n",
    "from sklearn.linear_model import LogisticRegression"
   ]
  },
  {
   "cell_type": "code",
   "execution_count": 5,
   "metadata": {},
   "outputs": [],
   "source": [
    "iris = load_iris()\n",
    "#load the data set we are going to use"
   ]
  },
  {
   "cell_type": "code",
   "execution_count": 6,
   "metadata": {},
   "outputs": [],
   "source": [
    "model = LogisticRegression().fit(iris['data'],iris['target']) #calling model, training set and "
   ]
  },
  {
   "cell_type": "code",
   "execution_count": 7,
   "metadata": {},
   "outputs": [
    {
     "data": {
      "text/plain": [
       "array([0, 0, 0, 0, 0, 0, 0, 0, 0, 0, 0, 0, 0, 0, 0, 0, 0, 0, 0, 0, 0, 0,\n",
       "       0, 0, 0, 0, 0, 0, 0, 0, 0, 0, 0, 0, 0, 0, 0, 0, 0, 0, 0, 0, 0, 0,\n",
       "       0, 0, 0, 0, 0, 0, 1, 1, 1, 1, 1, 1, 1, 1, 1, 1, 1, 1, 1, 1, 1, 1,\n",
       "       2, 1, 1, 1, 2, 1, 1, 1, 1, 1, 1, 1, 1, 1, 1, 1, 1, 2, 2, 2, 1, 1,\n",
       "       1, 1, 1, 1, 1, 1, 1, 1, 1, 1, 1, 1, 2, 2, 2, 2, 2, 2, 2, 2, 2, 2,\n",
       "       2, 2, 2, 2, 2, 2, 2, 2, 2, 2, 2, 2, 2, 2, 2, 2, 2, 2, 2, 1, 2, 2,\n",
       "       2, 2, 2, 2, 2, 2, 2, 2, 2, 2, 2, 2, 2, 2, 2, 2, 2, 2])"
      ]
     },
     "execution_count": 7,
     "metadata": {},
     "output_type": "execute_result"
    }
   ],
   "source": [
    "#now we have a model stored as model\n",
    "#lets make a prediction\n",
    "model.predict(iris['data'])\n",
    "#number of rules broken here - but this is an example of how simple this is\n",
    "#not a good model - there is an accuracy theshold"
   ]
  },
  {
   "cell_type": "markdown",
   "metadata": {},
   "source": [
    "# ML vs DL vs AI"
   ]
  },
  {
   "cell_type": "markdown",
   "metadata": {},
   "source": [
    "Terms are wrongfully used interchangeably\n",
    "ML - fitting a function to an example and that using that function to make predictions about new examples e.g. pattern matching\n",
    "DL - Subset of ML - fitting functions but these functions are then oragnised as connected layers of nodes, so you have loads of functions working together to make predictions. Connected pattern matching\n",
    "AI - Superset of ML and DL - weak AI (intelligence specifically designed to focus on a very narrow task e.g. credit card charges, this model cannto be used elsewhere e.g. netflix reccomendations), strong/ general AI (machine with consciousnness, sentience and a mind; general intelligence is capable of any and all cogntive functions and reasoing that a human is capable of)."
   ]
  },
  {
   "cell_type": "markdown",
   "metadata": {},
   "source": [
    "# Demos of ML in real life"
   ]
  },
  {
   "cell_type": "markdown",
   "metadata": {},
   "source": [
    "Personal assistants - siri, echo\n",
    "siri takes it what it hears and smooths it into what the most likely thing a person has said is\n",
    "Recomendations systems - amazon, twitter, FB\n",
    "Collaborative filtering - similarity between users and then make reccomendations\n",
    "Ride sharing - uber lift\n",
    "rider pairings, shortest routes \n",
    "look at uber movement  publically available data\n",
    "self driving cars - uses deep learning - subset of ML"
   ]
  },
  {
   "cell_type": "markdown",
   "metadata": {},
   "source": [
    "# Common challenges"
   ]
  },
  {
   "cell_type": "markdown",
   "metadata": {},
   "source": [
    "Flow directly from questions on whether it should be used\n",
    "Challenges tend to come in 4 high level categories, not blocking factors but they are things to look out for!\n",
    "1. Problem scoping - are we solving the right problem - business problem into data, then data to a model is hard. If you don't understand the impact on the business then you can't deem a threshold. Impact in a real environment can't be measured - but its all test data.\n",
    "2. Data - Lack of data/ dat sensitvity, too much data (data is big when managing it becomes part of the problem), no labels, biased, dirty or noisey.\n",
    "3. Infrastructure - lack skills to robustly automate (building the model and system to run the model is very diffuclt). Computing power (efficient code writing), no ability to test exisiting solution, inability to track model quality over time after testing.\n",
    "4. Latency - Takes too long to train (diffcult to iterate and improve), inference time (too long to make decisions wun run time "
   ]
  },
  {
   "cell_type": "code",
   "execution_count": null,
   "metadata": {},
   "outputs": [],
   "source": []
  }
 ],
 "metadata": {
  "kernelspec": {
   "display_name": "Python 3",
   "language": "python",
   "name": "python3"
  },
  "language_info": {
   "codemirror_mode": {
    "name": "ipython",
    "version": 3
   },
   "file_extension": ".py",
   "mimetype": "text/x-python",
   "name": "python",
   "nbconvert_exporter": "python",
   "pygments_lexer": "ipython3",
   "version": "3.7.4"
  }
 },
 "nbformat": 4,
 "nbformat_minor": 2
}
